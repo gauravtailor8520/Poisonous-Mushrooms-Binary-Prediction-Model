{
  "cells": [
    {
      "cell_type": "markdown",
      "metadata": {
        "id": "view-in-github",
        "colab_type": "text"
      },
      "source": [
        "<a href=\"https://colab.research.google.com/github/gauravtailor8520/Poisonous-Mushrooms-Binary-Prediction-Model/blob/main/mushroom_classification_analysis.ipynb\" target=\"_parent\"><img src=\"https://colab.research.google.com/assets/colab-badge.svg\" alt=\"Open In Colab\"/></a>"
      ]
    },
    {
      "cell_type": "markdown",
      "id": "5e1445c4",
      "metadata": {
        "papermill": {
          "duration": 0.027904,
          "end_time": "2024-08-27T19:18:18.449659",
          "exception": false,
          "start_time": "2024-08-27T19:18:18.421755",
          "status": "completed"
        },
        "tags": [],
        "id": "5e1445c4"
      },
      "source": [
        "# **Binary Prediction of Poisonous Mushrooms**"
      ]
    },
    {
      "cell_type": "markdown",
      "id": "00b32ecc",
      "metadata": {
        "papermill": {
          "duration": 0.024246,
          "end_time": "2024-08-27T19:18:18.549466",
          "exception": false,
          "start_time": "2024-08-27T19:18:18.525220",
          "status": "completed"
        },
        "tags": [],
        "id": "00b32ecc"
      },
      "source": [
        "![]()"
      ]
    },
    {
      "cell_type": "markdown",
      "id": "02b9e10b",
      "metadata": {
        "papermill": {
          "duration": 0.023586,
          "end_time": "2024-08-27T19:18:18.598344",
          "exception": false,
          "start_time": "2024-08-27T19:18:18.574758",
          "status": "completed"
        },
        "tags": [],
        "id": "02b9e10b"
      },
      "source": [
        "## **1.Problem Definition** :"
      ]
    },
    {
      "cell_type": "markdown",
      "id": "e8f801c3",
      "metadata": {
        "papermill": {
          "duration": 0.024283,
          "end_time": "2024-08-27T19:18:18.646641",
          "exception": false,
          "start_time": "2024-08-27T19:18:18.622358",
          "status": "completed"
        },
        "tags": [],
        "id": "e8f801c3"
      },
      "source": [
        "### **A. Overview** :"
      ]
    },
    {
      "cell_type": "markdown",
      "id": "e223429b",
      "metadata": {
        "papermill": {
          "duration": 0.02345,
          "end_time": "2024-08-27T19:18:18.694333",
          "exception": false,
          "start_time": "2024-08-27T19:18:18.670883",
          "status": "completed"
        },
        "tags": [],
        "id": "e223429b"
      },
      "source": [
        "In this we developing a machine learning model to classify mushrooms as either edible or poisonous based on their physical characteristics. The dataset provided is based on a deep learning model trained on the UCI Mushroom dataset, with feature distributions that are similar, but not identical, to the original dataset. Competitors are encouraged to explore the differences and consider incorporating the original UCI dataset to potentially improve model performance."
      ]
    },
    {
      "cell_type": "markdown",
      "id": "e5a5fdb7",
      "metadata": {
        "papermill": {
          "duration": 0.023513,
          "end_time": "2024-08-27T19:18:18.741807",
          "exception": false,
          "start_time": "2024-08-27T19:18:18.718294",
          "status": "completed"
        },
        "tags": [],
        "id": "e5a5fdb7"
      },
      "source": [
        "### **B. Problem Statement** :"
      ]
    },
    {
      "cell_type": "markdown",
      "id": "b6ecc590",
      "metadata": {
        "papermill": {
          "duration": 0.023489,
          "end_time": "2024-08-27T19:18:18.789461",
          "exception": false,
          "start_time": "2024-08-27T19:18:18.765972",
          "status": "completed"
        },
        "tags": [],
        "id": "b6ecc590"
      },
      "source": [
        "The objective is to accurately predict whether a given mushroom is edible or poisonous using its physical characteristics as features. This binary classification problem is crucial for ensuring safety in foraging and consumption of wild mushrooms. The challenge includes handling categorical features, some of which may not be found in the original dataset, adding complexity to the model development process."
      ]
    },
    {
      "cell_type": "markdown",
      "id": "3985fbeb",
      "metadata": {
        "papermill": {
          "duration": 0.023685,
          "end_time": "2024-08-27T19:18:18.837988",
          "exception": false,
          "start_time": "2024-08-27T19:18:18.814303",
          "status": "completed"
        },
        "tags": [],
        "id": "3985fbeb"
      },
      "source": [
        "### **C. Measurable Success Metrics**"
      ]
    },
    {
      "cell_type": "markdown",
      "id": "494e8cbc",
      "metadata": {
        "papermill": {
          "duration": 0.024297,
          "end_time": "2024-08-27T19:18:18.886184",
          "exception": false,
          "start_time": "2024-08-27T19:18:18.861887",
          "status": "completed"
        },
        "tags": [],
        "id": "494e8cbc"
      },
      "source": [
        "#### **i. Primary Metric** :"
      ]
    },
    {
      "cell_type": "markdown",
      "id": "3673b983",
      "metadata": {
        "papermill": {
          "duration": 0.024204,
          "end_time": "2024-08-27T19:18:18.934904",
          "exception": false,
          "start_time": "2024-08-27T19:18:18.910700",
          "status": "completed"
        },
        "tags": [],
        "id": "3673b983"
      },
      "source": [
        "* **Accuracy**: The proportion of correctly classified instances (both edible and poisonous) over the total number of instances. This will be the primary metric used to evaluate model performance."
      ]
    },
    {
      "cell_type": "markdown",
      "id": "381885a3",
      "metadata": {
        "papermill": {
          "duration": 0.023543,
          "end_time": "2024-08-27T19:18:18.982951",
          "exception": false,
          "start_time": "2024-08-27T19:18:18.959408",
          "status": "completed"
        },
        "tags": [],
        "id": "381885a3"
      },
      "source": [
        "#### **ii. Secondary Metrics** :"
      ]
    },
    {
      "cell_type": "markdown",
      "id": "0182f4d6",
      "metadata": {
        "papermill": {
          "duration": 0.024766,
          "end_time": "2024-08-27T19:18:19.031800",
          "exception": false,
          "start_time": "2024-08-27T19:18:19.007034",
          "status": "completed"
        },
        "tags": [],
        "id": "0182f4d6"
      },
      "source": [
        "* **F1 Score**: The harmonic mean of precision and recall, especially important in cases where the classes might be imbalanced.\n",
        "* **AUC-ROC Curve**: This metric helps in evaluating the model's ability to distinguish between the classes across different thresholds."
      ]
    },
    {
      "cell_type": "markdown",
      "id": "53075df1",
      "metadata": {
        "papermill": {
          "duration": 0.023683,
          "end_time": "2024-08-27T19:18:19.080350",
          "exception": false,
          "start_time": "2024-08-27T19:18:19.056667",
          "status": "completed"
        },
        "tags": [],
        "id": "53075df1"
      },
      "source": [
        "#### **iii. Success Criteria** :"
      ]
    },
    {
      "cell_type": "markdown",
      "id": "9f90bdc9",
      "metadata": {
        "papermill": {
          "duration": 0.024076,
          "end_time": "2024-08-27T19:18:19.130006",
          "exception": false,
          "start_time": "2024-08-27T19:18:19.105930",
          "status": "completed"
        },
        "tags": [],
        "id": "9f90bdc9"
      },
      "source": [
        "* The model should achieve a minimum accuracy of 95% on the validation set to be considered successful, with higher scores indicating better performance.\n",
        "* F1 Score and AUC-ROC values should be maximized, with the aim of maintaining a balance between precision and recall, ensuring that neither edible nor poisonous mushrooms are disproportionately misclassified."
      ]
    },
    {
      "cell_type": "markdown",
      "id": "acd327b0",
      "metadata": {
        "papermill": {
          "duration": 0.023678,
          "end_time": "2024-08-27T19:18:19.177758",
          "exception": false,
          "start_time": "2024-08-27T19:18:19.154080",
          "status": "completed"
        },
        "tags": [],
        "id": "acd327b0"
      },
      "source": [
        "## **2. Data Understanding** :"
      ]
    },
    {
      "cell_type": "code",
      "source": [
        "!pip install opendatasets"
      ],
      "metadata": {
        "colab": {
          "base_uri": "https://localhost:8080/"
        },
        "id": "cyf-4YpQuSh9",
        "outputId": "236351b4-3ada-4dd0-ec08-5908586394e3"
      },
      "id": "cyf-4YpQuSh9",
      "execution_count": 2,
      "outputs": [
        {
          "output_type": "stream",
          "name": "stdout",
          "text": [
            "Requirement already satisfied: opendatasets in /usr/local/lib/python3.10/dist-packages (0.1.22)\n",
            "Requirement already satisfied: tqdm in /usr/local/lib/python3.10/dist-packages (from opendatasets) (4.66.5)\n",
            "Requirement already satisfied: kaggle in /usr/local/lib/python3.10/dist-packages (from opendatasets) (1.6.17)\n",
            "Requirement already satisfied: click in /usr/local/lib/python3.10/dist-packages (from opendatasets) (8.1.7)\n",
            "Requirement already satisfied: six>=1.10 in /usr/local/lib/python3.10/dist-packages (from kaggle->opendatasets) (1.16.0)\n",
            "Requirement already satisfied: certifi>=2023.7.22 in /usr/local/lib/python3.10/dist-packages (from kaggle->opendatasets) (2024.7.4)\n",
            "Requirement already satisfied: python-dateutil in /usr/local/lib/python3.10/dist-packages (from kaggle->opendatasets) (2.8.2)\n",
            "Requirement already satisfied: requests in /usr/local/lib/python3.10/dist-packages (from kaggle->opendatasets) (2.32.3)\n",
            "Requirement already satisfied: python-slugify in /usr/local/lib/python3.10/dist-packages (from kaggle->opendatasets) (8.0.4)\n",
            "Requirement already satisfied: urllib3 in /usr/local/lib/python3.10/dist-packages (from kaggle->opendatasets) (2.0.7)\n",
            "Requirement already satisfied: bleach in /usr/local/lib/python3.10/dist-packages (from kaggle->opendatasets) (6.1.0)\n",
            "Requirement already satisfied: webencodings in /usr/local/lib/python3.10/dist-packages (from bleach->kaggle->opendatasets) (0.5.1)\n",
            "Requirement already satisfied: text-unidecode>=1.3 in /usr/local/lib/python3.10/dist-packages (from python-slugify->kaggle->opendatasets) (1.3)\n",
            "Requirement already satisfied: charset-normalizer<4,>=2 in /usr/local/lib/python3.10/dist-packages (from requests->kaggle->opendatasets) (3.3.2)\n",
            "Requirement already satisfied: idna<4,>=2.5 in /usr/local/lib/python3.10/dist-packages (from requests->kaggle->opendatasets) (3.8)\n"
          ]
        }
      ]
    },
    {
      "cell_type": "code",
      "source": [
        "import opendatasets as od\n",
        "\n",
        "dataset_url = 'https://www.kaggle.com/competitions/playground-series-s4e8/data'\n",
        "od.download(dataset_url)\n",
        "\n",
        "#------{\"username\":\"gatabhjsbaj\",\"key\":\"b896dc661c422a46c2bdc7ba71d1b1ba\"}"
      ],
      "metadata": {
        "colab": {
          "base_uri": "https://localhost:8080/"
        },
        "id": "8b3LCI8HuvXZ",
        "outputId": "79e9f8e7-a07d-473a-913d-9b6ee9a38941"
      },
      "id": "8b3LCI8HuvXZ",
      "execution_count": 3,
      "outputs": [
        {
          "output_type": "stream",
          "name": "stdout",
          "text": [
            "Please provide your Kaggle credentials to download this dataset. Learn more: http://bit.ly/kaggle-creds\n",
            "Your Kaggle username: gatabhjsbaj\n",
            "Your Kaggle Key: ··········\n",
            "Downloading playground-series-s4e8.zip to ./playground-series-s4e8\n"
          ]
        },
        {
          "output_type": "stream",
          "name": "stderr",
          "text": [
            "100%|██████████| 82.3M/82.3M [00:00<00:00, 167MB/s]\n"
          ]
        },
        {
          "output_type": "stream",
          "name": "stdout",
          "text": [
            "\n",
            "Extracting archive ./playground-series-s4e8/playground-series-s4e8.zip to ./playground-series-s4e8\n"
          ]
        }
      ]
    },
    {
      "cell_type": "code",
      "execution_count": 5,
      "id": "ff5317fe",
      "metadata": {
        "execution": {
          "iopub.execute_input": "2024-08-27T19:18:19.228029Z",
          "iopub.status.busy": "2024-08-27T19:18:19.227523Z",
          "iopub.status.idle": "2024-08-27T19:18:19.697664Z",
          "shell.execute_reply": "2024-08-27T19:18:19.696380Z"
        },
        "papermill": {
          "duration": 0.498833,
          "end_time": "2024-08-27T19:18:19.700658",
          "exception": false,
          "start_time": "2024-08-27T19:18:19.201825",
          "status": "completed"
        },
        "tags": [],
        "id": "ff5317fe"
      },
      "outputs": [],
      "source": [
        "import pandas as pd"
      ]
    },
    {
      "cell_type": "code",
      "execution_count": 6,
      "id": "3b12d364",
      "metadata": {
        "execution": {
          "iopub.execute_input": "2024-08-27T19:18:19.751518Z",
          "iopub.status.busy": "2024-08-27T19:18:19.750907Z",
          "iopub.status.idle": "2024-08-27T19:18:32.541088Z",
          "shell.execute_reply": "2024-08-27T19:18:32.539839Z"
        },
        "papermill": {
          "duration": 12.818984,
          "end_time": "2024-08-27T19:18:32.544103",
          "exception": false,
          "start_time": "2024-08-27T19:18:19.725119",
          "status": "completed"
        },
        "tags": [],
        "id": "3b12d364"
      },
      "outputs": [],
      "source": [
        "df_train = pd.read_csv(\"/content/playground-series-s4e8/train.csv\")"
      ]
    },
    {
      "cell_type": "code",
      "execution_count": 7,
      "id": "c70da0da",
      "metadata": {
        "execution": {
          "iopub.execute_input": "2024-08-27T19:18:32.596616Z",
          "iopub.status.busy": "2024-08-27T19:18:32.596117Z",
          "iopub.status.idle": "2024-08-27T19:18:39.998010Z",
          "shell.execute_reply": "2024-08-27T19:18:39.996608Z"
        },
        "papermill": {
          "duration": 7.431195,
          "end_time": "2024-08-27T19:18:40.001002",
          "exception": false,
          "start_time": "2024-08-27T19:18:32.569807",
          "status": "completed"
        },
        "tags": [],
        "id": "c70da0da"
      },
      "outputs": [],
      "source": [
        "df_test = pd.read_csv(\"/content/playground-series-s4e8/test.csv\")"
      ]
    },
    {
      "cell_type": "code",
      "execution_count": 8,
      "id": "34a85c5c",
      "metadata": {
        "execution": {
          "iopub.execute_input": "2024-08-27T19:18:40.052628Z",
          "iopub.status.busy": "2024-08-27T19:18:40.051284Z",
          "iopub.status.idle": "2024-08-27T19:18:40.060384Z",
          "shell.execute_reply": "2024-08-27T19:18:40.059252Z"
        },
        "papermill": {
          "duration": 0.037346,
          "end_time": "2024-08-27T19:18:40.063120",
          "exception": false,
          "start_time": "2024-08-27T19:18:40.025774",
          "status": "completed"
        },
        "tags": [],
        "id": "34a85c5c",
        "outputId": "ba57df0e-5630-471a-f97b-608b1fd31e72",
        "colab": {
          "base_uri": "https://localhost:8080/"
        }
      },
      "outputs": [
        {
          "output_type": "execute_result",
          "data": {
            "text/plain": [
              "(3116945, 22)"
            ]
          },
          "metadata": {},
          "execution_count": 8
        }
      ],
      "source": [
        "df_train.shape"
      ]
    },
    {
      "cell_type": "code",
      "execution_count": null,
      "id": "3c67a540",
      "metadata": {
        "execution": {
          "iopub.execute_input": "2024-08-27T19:18:40.115272Z",
          "iopub.status.busy": "2024-08-27T19:18:40.114029Z",
          "iopub.status.idle": "2024-08-27T19:18:40.123796Z",
          "shell.execute_reply": "2024-08-27T19:18:40.122598Z"
        },
        "papermill": {
          "duration": 0.038751,
          "end_time": "2024-08-27T19:18:40.126371",
          "exception": false,
          "start_time": "2024-08-27T19:18:40.087620",
          "status": "completed"
        },
        "tags": [],
        "id": "3c67a540",
        "outputId": "46a10b2d-c385-4cdd-eab4-fd3b4aab1034"
      },
      "outputs": [
        {
          "data": {
            "text/plain": [
              "Index(['id', 'class', 'cap-diameter', 'cap-shape', 'cap-surface', 'cap-color',\n",
              "       'does-bruise-or-bleed', 'gill-attachment', 'gill-spacing', 'gill-color',\n",
              "       'stem-height', 'stem-width', 'stem-root', 'stem-surface', 'stem-color',\n",
              "       'veil-type', 'veil-color', 'has-ring', 'ring-type', 'spore-print-color',\n",
              "       'habitat', 'season'],\n",
              "      dtype='object')"
            ]
          },
          "execution_count": 5,
          "metadata": {},
          "output_type": "execute_result"
        }
      ],
      "source": [
        "df_train.columns"
      ]
    },
    {
      "cell_type": "markdown",
      "id": "f1bbf34c",
      "metadata": {
        "papermill": {
          "duration": 0.025437,
          "end_time": "2024-08-27T19:18:40.177178",
          "exception": false,
          "start_time": "2024-08-27T19:18:40.151741",
          "status": "completed"
        },
        "tags": [],
        "id": "f1bbf34c"
      },
      "source": [
        "### **A. Dataset Overview** :"
      ]
    },
    {
      "cell_type": "markdown",
      "id": "6db85934",
      "metadata": {
        "papermill": {
          "duration": 0.024367,
          "end_time": "2024-08-27T19:18:40.226372",
          "exception": false,
          "start_time": "2024-08-27T19:18:40.202005",
          "status": "completed"
        },
        "tags": [],
        "id": "6db85934"
      },
      "source": [
        "**The dataset consists of several features related to the physical characteristics of mushrooms. These features will be used to predict whether a mushroom is edible or poisonous (the target variable). Below is a brief description of each feature:**"
      ]
    },
    {
      "cell_type": "markdown",
      "id": "92d7cb74",
      "metadata": {
        "papermill": {
          "duration": 0.024814,
          "end_time": "2024-08-27T19:18:40.275793",
          "exception": false,
          "start_time": "2024-08-27T19:18:40.250979",
          "status": "completed"
        },
        "tags": [],
        "id": "92d7cb74"
      },
      "source": [
        "* `id`: A unique identifier for each mushroom sample.\n",
        "* `class`: The target variable indicating whether the mushroom is edible (e) or poisonous (p).\n",
        "* `cap-diameter`: Numerical feature representing the diameter of the mushroom cap.\n",
        "* `cap-shape`: Categorical feature describing the shape of the mushroom cap.\n",
        "* `cap-surface`: Categorical feature describing the surface texture of the mushroom cap.\n",
        "* `cap-color`: Categorical feature describing the color of the mushroom cap.\n",
        "* `does-bruise-or-bleed`: Categorical feature indicating whether the mushroom bruises or bleeds when handled.\n",
        "* `gill-attachment`: Categorical feature describing how the gills are attached to the mushroom stem.\n",
        "* `gill-spacing`: Categorical feature describing the spacing of the gills.\n",
        "* `gill-color`: Categorical feature describing the color of the gills.\n",
        "* `stem-height`: Numerical feature representing the height of the mushroom stem.\n",
        "* `stem-width`: Numerical feature representing the width of the mushroom stem.\n",
        "* `stem-root`: Categorical feature describing the root type of the stem.\n",
        "* `stem-surface`: Categorical feature describing the surface texture of the stem.\n",
        "* `stem-color`: Categorical feature describing the color of the stem.\n",
        "* `veil-type`: Categorical feature describing the type of veil covering the mushroom.\n",
        "* `veil-color`: Categorical feature describing the color of the veil.\n",
        "* `has-ring`: Categorical feature indicating whether the mushroom has a ring on the stem.\n",
        "* `ring-type`: Categorical feature describing the type of ring on the stem.\n",
        "* `spore-print-color`: Categorical feature describing the color of the spore print.\n",
        "* `habitat`: Categorical feature describing the type of environment where the mushroom is typically found.\n",
        "* `season`: Categorical feature indicating the season during which the mushroom is found."
      ]
    },
    {
      "cell_type": "markdown",
      "id": "a7409bec",
      "metadata": {
        "papermill": {
          "duration": 0.024184,
          "end_time": "2024-08-27T19:18:40.374414",
          "exception": false,
          "start_time": "2024-08-27T19:18:40.350230",
          "status": "completed"
        },
        "tags": [],
        "id": "a7409bec"
      },
      "source": [
        "### **B. Initial Observations** :"
      ]
    },
    {
      "cell_type": "markdown",
      "id": "a5b78229",
      "metadata": {
        "papermill": {
          "duration": 0.025318,
          "end_time": "2024-08-27T19:18:40.424014",
          "exception": false,
          "start_time": "2024-08-27T19:18:40.398696",
          "status": "completed"
        },
        "tags": [],
        "id": "a5b78229"
      },
      "source": [
        "* The dataset includes both numerical and categorical features. The numerical features (`cap-diameter`, `stem-height`, `stem-width`) may require normalization or scaling.\n",
        "* Several categorical features may have values not present in the original UCI Mushroom dataset, which could require special handling during preprocessing.\n",
        "* The target variable (class) is binary, which simplifies the problem to a binary classification task."
      ]
    },
    {
      "cell_type": "markdown",
      "id": "85ec1ba8",
      "metadata": {
        "papermill": {
          "duration": 0.025363,
          "end_time": "2024-08-27T19:18:40.473970",
          "exception": false,
          "start_time": "2024-08-27T19:18:40.448607",
          "status": "completed"
        },
        "tags": [],
        "id": "85ec1ba8"
      },
      "source": [
        "### **C. Potential Challenges** :"
      ]
    },
    {
      "cell_type": "markdown",
      "id": "121b7261",
      "metadata": {
        "papermill": {
          "duration": 0.024433,
          "end_time": "2024-08-27T19:18:40.523925",
          "exception": false,
          "start_time": "2024-08-27T19:18:40.499492",
          "status": "completed"
        },
        "tags": [],
        "id": "121b7261"
      },
      "source": [
        "* Handling categorical variables, especially those with new or unexpected categories.\n",
        "* Balancing the dataset if there is any class imbalance between edible and poisonous mushrooms.\n",
        "* Ensuring that the features are appropriately preprocessed, such as encoding categorical variables and scaling numerical ones."
      ]
    },
    {
      "cell_type": "markdown",
      "id": "094587c9",
      "metadata": {
        "papermill": {
          "duration": 0.024126,
          "end_time": "2024-08-27T19:18:40.573081",
          "exception": false,
          "start_time": "2024-08-27T19:18:40.548955",
          "status": "completed"
        },
        "tags": [],
        "id": "094587c9"
      },
      "source": [
        "## **3. Data Preprocessing** :"
      ]
    },
    {
      "cell_type": "markdown",
      "id": "28fbc2db",
      "metadata": {
        "papermill": {
          "duration": 0.026188,
          "end_time": "2024-08-27T19:18:40.624037",
          "exception": false,
          "start_time": "2024-08-27T19:18:40.597849",
          "status": "completed"
        },
        "tags": [],
        "id": "28fbc2db"
      },
      "source": [
        "### **A. Handling Inconsistent or Erroneous Values** :"
      ]
    },
    {
      "cell_type": "code",
      "execution_count": null,
      "id": "48a41ae8",
      "metadata": {
        "execution": {
          "iopub.execute_input": "2024-08-27T19:18:40.675895Z",
          "iopub.status.busy": "2024-08-27T19:18:40.675410Z",
          "iopub.status.idle": "2024-08-27T19:18:40.681889Z",
          "shell.execute_reply": "2024-08-27T19:18:40.680723Z"
        },
        "papermill": {
          "duration": 0.035397,
          "end_time": "2024-08-27T19:18:40.684445",
          "exception": false,
          "start_time": "2024-08-27T19:18:40.649048",
          "status": "completed"
        },
        "tags": [],
        "id": "48a41ae8"
      },
      "outputs": [],
      "source": [
        "# List of categorical columns to process\n",
        "categorical_columns = ['cap-shape', 'cap-surface', 'cap-color','does-bruise-or-bleed', 'gill-attachment', 'gill-spacing'\n",
        "                      ,'gill-color', 'stem-root', 'stem-surface','stem-color','veil-type','veil-color','has-ring',\n",
        "                       'ring-type','spore-print-color','habitat'\n",
        "                      ]"
      ]
    },
    {
      "cell_type": "code",
      "execution_count": null,
      "id": "95a1c932",
      "metadata": {
        "execution": {
          "iopub.execute_input": "2024-08-27T19:18:40.794819Z",
          "iopub.status.busy": "2024-08-27T19:18:40.794386Z",
          "iopub.status.idle": "2024-08-27T19:18:40.799852Z",
          "shell.execute_reply": "2024-08-27T19:18:40.798609Z"
        },
        "papermill": {
          "duration": 0.034745,
          "end_time": "2024-08-27T19:18:40.802409",
          "exception": false,
          "start_time": "2024-08-27T19:18:40.767664",
          "status": "completed"
        },
        "tags": [],
        "id": "95a1c932"
      },
      "outputs": [],
      "source": [
        "# List of numerical columns to process\n",
        "numerical_columns = ['cap-diameter', 'stem-height', 'stem-width']"
      ]
    },
    {
      "cell_type": "markdown",
      "id": "f50c4fe0",
      "metadata": {
        "papermill": {
          "duration": 0.024203,
          "end_time": "2024-08-27T19:18:40.851960",
          "exception": false,
          "start_time": "2024-08-27T19:18:40.827757",
          "status": "completed"
        },
        "tags": [],
        "id": "f50c4fe0"
      },
      "source": [
        "#### **i. Unique Values for every categorical data** :"
      ]
    },
    {
      "cell_type": "code",
      "execution_count": null,
      "id": "907c6ce2",
      "metadata": {
        "execution": {
          "iopub.execute_input": "2024-08-27T19:18:40.903045Z",
          "iopub.status.busy": "2024-08-27T19:18:40.902534Z",
          "iopub.status.idle": "2024-08-27T19:18:43.394567Z",
          "shell.execute_reply": "2024-08-27T19:18:43.392796Z"
        },
        "papermill": {
          "duration": 2.520756,
          "end_time": "2024-08-27T19:18:43.397489",
          "exception": false,
          "start_time": "2024-08-27T19:18:40.876733",
          "status": "completed"
        },
        "tags": [],
        "id": "907c6ce2",
        "outputId": "795f4508-1bad-46ae-9088-c73747b86283"
      },
      "outputs": [
        {
          "name": "stdout",
          "output_type": "stream",
          "text": [
            "column :  cap-shape \n",
            "unique values :  ['f' 'x' 'p' 'b' 'o' 'c' 's' 'd' 'e' 'n' nan 'w' 'k' 'l' '19.29' '5 f' 't'\n",
            " 'g' 'z' 'a' '2.85' '7 x' 'r' 'u' '3.55' 'is s' 'y' '4.22' '3.6' '21.56'\n",
            " 'i' '6 x' '24.16' '8' 'm' 'ring-type' '10.13' 'is p' '7.43' 'h' '0.82'\n",
            " '10.46' '2.77' '2.94' '12.62' '5.15' '19.04' '4.97' '49.21' 'b f' '9.13'\n",
            " '1.66' '3.37' '7.21' '3.25' '11.12' '3 x' '4.3' '7.41' '6.21' '8.29'\n",
            " '54.78' '20.25' '3.52' '3.04' '2.63' '3.91' '6.44' '8.3' '7.6' '17.44'\n",
            " '4.33' '2.82' '6.53' '19.06'] \n",
            "\n",
            "column :  cap-surface \n",
            "unique values :  ['s' 'h' 'y' 'l' 't' 'e' 'g' nan 'd' 'i' 'w' 'k' '15.94' 'f' 'n' 'r' 'o'\n",
            " 'a' 'u' 'z' '2.7' 'does l' '5.07' 'p' 'b' 'm' 'cap-diameter' '1.43' 'x'\n",
            " '7.14' 'c' 'is h' 'does t' '0.85' '6.57' '12.79' '6.45' '4.66' '23.18'\n",
            " '3.06' '16.39' '4.21' 'veil-color' '11.78' '8.1' 'has-ring' 'does h'\n",
            " '1.42' 'class' 'has h' 'does None' '10.83' 'season' '8.96' '14.04' '5.73'\n",
            " 'is None' '24.38' '2.81' '0.88' '2.11' '2.79' 'ring-type'\n",
            " 'does-bruise-or-bleed' '4.93' 'spore-print-color' 'spore-color' '2.92'\n",
            " '2.51' '7.99' 'is y' '3.64' '3.33' '41.91' '12.2' '8.01' '9.22' '1.14'\n",
            " '6.49' '10.34' '10.1' '1.08' 'is k' '0.87'] \n",
            "\n",
            "column :  cap-color \n",
            "unique values :  ['u' 'o' 'b' 'g' 'w' 'n' 'e' 'y' 'r' 'p' 'k' 'l' 'i' 'h' 'd' 's' 'a' 'f'\n",
            " '2.05' 'season' 'c' 'x' '13' '7.72' 'm' 'z' '6.76' '7.15' 't' 'ring-type'\n",
            " nan 'class' '12.89' '8.83' '24.75' '22.38' '1.51' '10.1' '17.94' '3.57'\n",
            " 'does n' '4.89' '6.2' '21.53' '6.41' '4.98' '3.95' 'does-bruise-or-bleed'\n",
            " '6.59' '5.25' 'veil-color' '6.9' '5.41' '11.13' '3.11' '2.57' '17.93'\n",
            " '2.7' '8.57' '11.92' '3.08' '2.82' '4.24' '17.19' '3.34' '7' '2.9' '6.36'\n",
            " '5.91' '10.56' '26.89' '4. n' '20.62' 'stem-surface' '20.02' '20' '25.98'\n",
            " '8.67' '9.02'] \n",
            "\n",
            "column :  does-bruise-or-bleed \n",
            "unique values :  ['f' 't' 'd' 'has-ring' 'w' 'o' 'b' 'x' 'p' nan 'g' 'y' 'r' 'a' 'l' 'i'\n",
            " 'c' 'n' 'z' 's' 'k' 'h' '3.43' 'e' '4.42' '2.9' 'u'] \n",
            "\n",
            "column :  gill-attachment \n",
            "unique values :  ['a' 'x' 's' 'd' 'e' nan 'f' 'p' 'l' 'm' 'b' '32.54' 'n' 'g' 'i' 'u'\n",
            " 'does-bruise-or-bleed' 't' 'o' 'c' 'w' '4.64' 'k' 'r' '4.77' 'h' 'p p'\n",
            " '7.92' 'z' 'season' 'y' '8.79' 'does None' 'has f' 'ring-type' '16.33'\n",
            " '10.85' '20.07' '2.82' '7.86' '3.91' 'does' '10.23' '6.74' '0.92' '3.45'\n",
            " '1' 'is a' '3.71' '50.44' '11.62' 'has d' '1.32' '8.47' '6.11' '2.41'\n",
            " '2.54' '6.32' '19.65' '15.49' '4.01' '8.37' 'does f' '28.7' '13.15'\n",
            " '1.37' '28.15' '7.09' '9.88' '2.67' '18.21' '1.48' '5.93' '1.51' '16.27'\n",
            " '11.26' '2.79' 'is f' '13.94'] \n",
            "\n",
            "column :  gill-spacing \n",
            "unique values :  ['c' nan 'd' 'f' 'x' 'b' 'a' '3.61' '2.69' 'k' '4.8' 'e' 'y' 'class' 's'\n",
            " '9.01' 'p' '3.92' '5.22' '6.67' '4.04' 't' '0.73' 'i' '3.57' '24.38' 'w'\n",
            " 'h' 'cap-surface' 'l' '1' '12.27' '5.42' 'r' '1.6' 'n' 'g' '0' '3.81'\n",
            " '4.09' '1.36' '3.24' '5.55' '5.7' '3.62' 'does f' '6.4' '1.88' '55.13'] \n",
            "\n",
            "column :  gill-color \n",
            "unique values :  ['w' 'n' 'g' 'k' 'y' 'f' 'p' 'o' 'b' 'u' 'e' 'r' 'd' 't' '3.45' 'z' '5'\n",
            " '3.39' 'season' 'h' 'x' 's' '4' 'class' 'c' 'm' 'spacing' '0.92' nan\n",
            " '18.12' 'l' 'does w' 'a' '7.59' '8.06' '6.19' 'has-ring' '4.49' '9.46'\n",
            " '5.01' 'ring-type' '3.4' 'i' '17' '10.07' 'stem-root' '20.6'\n",
            " 'spore-print-color' '18.03' 'does-bruise-or-bleed' '8.83' 'habitat'\n",
            " '10.21' '4.64' '6.4' 'is y' 'e y' '1.91' 'does n' '16.41' '6.41'\n",
            " 'veil-type' '20.44' '8.37'] \n",
            "\n",
            "column :  stem-root \n",
            "unique values :  [nan 'b' 'c' 'r' 's' 'f' '5.59' '2.77' '20.01' 'y' 'o' 'k' 'd' 'n' 'w' 'u'\n",
            " 'p' 'x' 'i' '10.87' 'a' '3.63' 't' 'm' 'l' 'h' 'g' '16.88' '15.69' '1.48'\n",
            " '3.23' 'e' '20.0' '18.06' 'z' 'spore-print-color' '3.49' '13.03' '7.15'] \n",
            "\n",
            "column :  stem-surface \n",
            "unique values :  [nan 'y' 's' 't' 'g' 'h' 'k' 'i' 'f' 'l' 'd' 'x' '12.04' 'w' 'a' 'o' 'c'\n",
            " 'n' 'm' 'e' 'p' 'z' '6.58' '4.34' 'b' '3.89' 'r' '25.83' '1.59' '0.0'\n",
            " '5.97' '5.81' 'u' 'season' '10.48' '3.68' '5.56' '4.41' '5.48' '5.51'\n",
            " 'class' 'has-ring' '13.1' '17.46' '5.35' '7.23' 'does None' '1.03'\n",
            " 'does s' '7.45' 'has h' 'does-bruise-or-bleed' '1.94' '49.46' '19.35'\n",
            " '2.68' '4.74' 'spore-print-color' '10.93' '24.12' '13.94'] \n",
            "\n",
            "column :  stem-color \n",
            "unique values :  ['w' 'o' 'n' 'y' 'e' 'u' 'p' 'f' 'g' 'r' 'k' 'l' 'b' '3.13' 't' 'z' 'a'\n",
            " 'h' 'd' nan 's' '7.33' 'is n' 'i' 'c' 'x' 'e n' '1.75' 'm' '33.52'\n",
            " 'ring-type' '2.78' 'spore-print-color' '23.59' '8.32' 'is w' '26.4'\n",
            " '4.75' '7.84' 'class' '2.75' '8.49' '4.49' '1.41' '17.45' '3.53' '12.92'\n",
            " '3.98' '20.07' '7.7' '22.6' '6.31' '6.09' '3.56' '3.37' '4.62' '2.54'\n",
            " '39.51' '18.06' '4.33'] \n",
            "\n",
            "column :  veil-type \n",
            "unique values :  [nan 'u' 'd' 'a' 'h' '21.11' 'g' 'c' 'e' 'y' 'i' 'f' 'is None' 't' 'w' 'p'\n",
            " 'b' 's' 'k' 'r' 'l' 'n' '5.94'] \n",
            "\n",
            "column :  veil-color \n",
            "unique values :  [nan 'n' 'w' 'k' 'y' 'e' 'u' 'p' 'd' 'g' 'r' 'h' 's' '8.25' 't' 'c' 'o'\n",
            " 'i' '2.49' 'f' 'a' 'b' 'l' 'z' '3.32'] \n",
            "\n",
            "column :  has-ring \n",
            "unique values :  ['f' 't' 'h' 'r' 'y' 'c' 'e' 'g' 'l' 's' nan 'p' 'x' 'k' 'z' 'f has-ring'\n",
            " 'd' 'o' 'n' 'm' 'i' '10.3' 'w' 'a'] \n",
            "\n",
            "column :  ring-type \n",
            "unique values :  ['f' 'z' 'e' nan 'p' 'l' 'g' 'r' 'm' 'y' 'h' 'o' 't' 'ring-type' 'a' 'd'\n",
            " 's' 'x' '4' 'b' '15' 'u' 'n' 'w' 'does f' '3.12' 'i' 'season' 'k' 'c'\n",
            " 'does-bruise-or-bleed' '11' '23.6' '1' '14' '2' 'spore-print-color'\n",
            " 'class' 'sp' '2.87' '8.25'] \n",
            "\n",
            "column :  spore-print-color \n",
            "unique values :  [nan 'k' 'w' 'p' 'n' 'r' 'u' 'g' 't' 'f' 'd' 'l' 'y' 'a' 's' '2.49' 'e'\n",
            " 'o' 'c' 'b' '10 None' 'h' 'x' '9 None' 'i' 'm' 'veil-color' 'class'\n",
            " '2.62' 'season' '9.55' '6.36' '4.58'] \n",
            "\n",
            "column :  habitat \n",
            "unique values :  ['d' 'l' 'g' 'h' 'p' 'm' 'u' 'w' 'y' nan 'n' 'a' 's' 'k' 'habitat' 'z'\n",
            " '8.09' '17.1' 'b' 't' 'c' '9.28' 'ring-type' 'e' 'r'\n",
            " 'does-bruise-or-bleed' 'f' 'is w' 'o' '2.94' 'x' '4' 'is h' '5.56'\n",
            " 'class' 'i' '10.07' '7.31' '5.62' 'spore-print-color' 'cap-diameter'\n",
            " '3.11' '16.46' '7.37' 'veil-type' '17.38' '1.66' '6.63' '18.35' '6.75'\n",
            " '2.44' '3.68' '2.25'] \n",
            "\n"
          ]
        }
      ],
      "source": [
        "for column in categorical_columns:\n",
        "    print(\"column : \",column,\"\\nunique values : \",df_train[column].unique(),\"\\n\")"
      ]
    },
    {
      "cell_type": "markdown",
      "id": "bce5bd74",
      "metadata": {
        "papermill": {
          "duration": 0.025276,
          "end_time": "2024-08-27T19:18:43.449977",
          "exception": false,
          "start_time": "2024-08-27T19:18:43.424701",
          "status": "completed"
        },
        "tags": [],
        "id": "bce5bd74"
      },
      "source": [
        "#### **ii. Mushroom Dataset Category Descriptions** :\n",
        "\n",
        "This document provides a description of the categories and their respective values used in the mushroom dataset.\n",
        "\n",
        "##### 1. Cap Shape (`cap-shape`)\n",
        "- **f**: Flat\n",
        "- **x**: Convex\n",
        "- **p**: Bell\n",
        "- **b**: Knobbed\n",
        "- **o**: Oval\n",
        "- **c**: Cylindrical\n",
        "- **s**: Sunken\n",
        "\n",
        "##### 2. Cap Surface (`cap-surface`)\n",
        "- **s**: Smooth\n",
        "- **h**: Fibrous\n",
        "- **y**: Scaly\n",
        "- **l**: Silky\n",
        "\n",
        "##### 3. Cap Color (`cap-color`)\n",
        "- **u**: Purple\n",
        "- **o**: Orange\n",
        "- **b**: Buff\n",
        "- **g**: Gray\n",
        "- **w**: White\n",
        "- **n**: Brown\n",
        "- **e**: Red\n",
        "- **y**: Yellow\n",
        "- **r**: Green\n",
        "- **p**: Pink\n",
        "- **k**: Black\n",
        "\n",
        "##### 4. Does Bruise or Bleed (`does-bruise-or-bleed`)\n",
        "- **f**: No\n",
        "- **t**: Yes\n",
        "\n",
        "##### 5. Gill Attachment (`gill-attachment`)\n",
        "- **a**: Attached\n",
        "- **x**: Free\n",
        "- **s**: Notched\n",
        "- **d**: Decurrent\n",
        "\n",
        "##### 6. Gill Spacing (`gill-spacing`)\n",
        "- **c**: Close\n",
        "- **d**: Crowded\n",
        "\n",
        "##### 7. Gill Color (`gill-color`)\n",
        "- **w**: White\n",
        "- **n**: Brown\n",
        "- **g**: Gray\n",
        "- **k**: Black\n",
        "\n",
        "##### 8. Stem Root (`stem-root`)\n",
        "- **b**: Bulbous\n",
        "- **c**: Club\n",
        "- **r**: Rooted\n",
        "- **s**: Scurfy\n",
        "- **f**: Fibrous\n",
        "\n",
        "##### 9. Stem Surface (`stem-surface`)\n",
        "- **y**: Scaly\n",
        "- **s**: Smooth\n",
        "- **t**: Fibrous\n",
        "- **g**: Grooved\n",
        "\n",
        "##### 10. Stem Color (`stem-color`)\n",
        "- **w**: White\n",
        "- **o**: Orange\n",
        "- **n**: Brown\n",
        "- **y**: Yellow\n",
        "- **e**: Red\n",
        "\n",
        "##### 11. Veil Type (`veil-type`)\n",
        "- **u**: Universal\n",
        "- **d**: Partial\n",
        "\n",
        "##### 12. Veil Color (`veil-color`)\n",
        "- **n**: Brown\n",
        "- **w**: White\n",
        "- **k**: Black\n",
        "- **y**: Yellow\n",
        "\n",
        "##### 13. Has Ring (`has-ring`)\n",
        "- **f**: No\n",
        "- **t**: Yes\n",
        "\n",
        "##### 14. Ring Type (`ring-type`)\n",
        "- **f**: Flaring\n",
        "- **z**: Large\n",
        "- **e**: Evanescent\n",
        "- **p**: Pendant\n",
        "\n",
        "##### 15. Spore Print Color (`spore-print-color`)\n",
        "- **k**: Black\n",
        "- **w**: White\n",
        "- **p**: Pink\n",
        "- **n**: Brown\n",
        "\n",
        "##### 16. Habitat (`habitat`)\n",
        "- **d**: Woods\n",
        "- **l**: Leaves\n",
        "- **g**: Grasses\n",
        "- **h**: Paths\n",
        "- **p**: Urban\n",
        "- **m**: Meadows\n",
        "- **u**: Waste"
      ]
    },
    {
      "cell_type": "code",
      "execution_count": null,
      "id": "1635f643",
      "metadata": {
        "execution": {
          "iopub.execute_input": "2024-08-27T19:18:43.502456Z",
          "iopub.status.busy": "2024-08-27T19:18:43.502004Z",
          "iopub.status.idle": "2024-08-27T19:18:43.507428Z",
          "shell.execute_reply": "2024-08-27T19:18:43.506036Z"
        },
        "papermill": {
          "duration": 0.034221,
          "end_time": "2024-08-27T19:18:43.509967",
          "exception": false,
          "start_time": "2024-08-27T19:18:43.475746",
          "status": "completed"
        },
        "tags": [],
        "id": "1635f643"
      },
      "outputs": [],
      "source": [
        "import numpy as np"
      ]
    },
    {
      "cell_type": "code",
      "execution_count": null,
      "id": "044d7826",
      "metadata": {
        "execution": {
          "iopub.execute_input": "2024-08-27T19:18:43.562718Z",
          "iopub.status.busy": "2024-08-27T19:18:43.562280Z",
          "iopub.status.idle": "2024-08-27T19:18:43.568822Z",
          "shell.execute_reply": "2024-08-27T19:18:43.567515Z"
        },
        "papermill": {
          "duration": 0.036067,
          "end_time": "2024-08-27T19:18:43.571305",
          "exception": false,
          "start_time": "2024-08-27T19:18:43.535238",
          "status": "completed"
        },
        "tags": [],
        "id": "044d7826"
      },
      "outputs": [],
      "source": [
        "# Assuming df is your DataFrame\n",
        "columns_to_clean = [\n",
        "    'cap-shape', 'cap-surface', 'cap-color', 'does-bruise-or-bleed',\n",
        "    'gill-attachment', 'gill-spacing', 'gill-color', 'stem-root',\n",
        "    'stem-surface', 'stem-color', 'veil-type', 'veil-color', 'has-ring',\n",
        "    'ring-type', 'spore-print-color', 'habitat'\n",
        "]"
      ]
    },
    {
      "cell_type": "code",
      "execution_count": null,
      "id": "996693c6",
      "metadata": {
        "execution": {
          "iopub.execute_input": "2024-08-27T19:18:43.625338Z",
          "iopub.status.busy": "2024-08-27T19:18:43.624758Z",
          "iopub.status.idle": "2024-08-27T19:18:43.634845Z",
          "shell.execute_reply": "2024-08-27T19:18:43.633569Z"
        },
        "papermill": {
          "duration": 0.04044,
          "end_time": "2024-08-27T19:18:43.637395",
          "exception": false,
          "start_time": "2024-08-27T19:18:43.596955",
          "status": "completed"
        },
        "tags": [],
        "id": "996693c6"
      },
      "outputs": [],
      "source": [
        "# Define valid categories for each column\n",
        "valid_categories = {\n",
        "    'cap-shape': ['f', 'x', 'p', 'b', 'o', 'c', 's'],\n",
        "    'cap-surface': ['s', 'h', 'y', 'l'],\n",
        "    'cap-color': ['u', 'o', 'b', 'g', 'w', 'n', 'e', 'y', 'r', 'p', 'k'],\n",
        "    'does-bruise-or-bleed': ['f', 't'],\n",
        "    'gill-attachment': ['a', 'x', 's', 'd'],\n",
        "    'gill-spacing': ['c', 'd'],\n",
        "    'gill-color': ['w', 'n', 'g', 'k'],\n",
        "    'stem-root': ['b', 'c', 'r', 's', 'f'],\n",
        "    'stem-surface': ['y', 's', 't', 'g'],\n",
        "    'stem-color': ['w', 'o', 'n', 'y', 'e'],\n",
        "    'veil-type': ['u', 'd'],\n",
        "    'veil-color': ['n', 'w', 'k', 'y'],\n",
        "    'has-ring': ['f', 't'],\n",
        "    'ring-type': ['f', 'z', 'e', 'p'],\n",
        "    'spore-print-color': ['k', 'w', 'p', 'n'],\n",
        "    'habitat': ['d', 'l', 'g', 'h', 'p', 'm', 'u']\n",
        "}"
      ]
    },
    {
      "cell_type": "code",
      "execution_count": null,
      "id": "e0f1c0cc",
      "metadata": {
        "execution": {
          "iopub.execute_input": "2024-08-27T19:18:43.691052Z",
          "iopub.status.busy": "2024-08-27T19:18:43.690605Z",
          "iopub.status.idle": "2024-08-27T19:19:23.528422Z",
          "shell.execute_reply": "2024-08-27T19:19:23.527080Z"
        },
        "papermill": {
          "duration": 39.868009,
          "end_time": "2024-08-27T19:19:23.531418",
          "exception": false,
          "start_time": "2024-08-27T19:18:43.663409",
          "status": "completed"
        },
        "tags": [],
        "id": "e0f1c0cc"
      },
      "outputs": [],
      "source": [
        "# Replace unexpected values with NaN\n",
        "for column in columns_to_clean:\n",
        "    df_train[column] = df_train[column].apply(lambda x: x if x in valid_categories[column] else np.nan)\n",
        "    df_test[column] = df_test[column].apply(lambda x: x if x in valid_categories[column] else np.nan)"
      ]
    },
    {
      "cell_type": "markdown",
      "id": "65adfb61",
      "metadata": {
        "papermill": {
          "duration": 0.024453,
          "end_time": "2024-08-27T19:19:23.580895",
          "exception": false,
          "start_time": "2024-08-27T19:19:23.556442",
          "status": "completed"
        },
        "tags": [],
        "id": "65adfb61"
      },
      "source": [
        "### **B. Handling Missing Values** :"
      ]
    },
    {
      "cell_type": "code",
      "execution_count": null,
      "id": "789647e9",
      "metadata": {
        "execution": {
          "iopub.execute_input": "2024-08-27T19:19:23.632976Z",
          "iopub.status.busy": "2024-08-27T19:19:23.632487Z",
          "iopub.status.idle": "2024-08-27T19:19:28.379708Z",
          "shell.execute_reply": "2024-08-27T19:19:28.378245Z"
        },
        "papermill": {
          "duration": 4.776521,
          "end_time": "2024-08-27T19:19:28.382418",
          "exception": false,
          "start_time": "2024-08-27T19:19:23.605897",
          "status": "completed"
        },
        "tags": [],
        "id": "789647e9",
        "outputId": "1f0c9997-520d-475f-b9f6-fd1ff14bf74e"
      },
      "outputs": [
        {
          "name": "stdout",
          "output_type": "stream",
          "text": [
            "Columns with missing values and their percentage:\n",
            "cap-diameter             0.000128\n",
            "cap-shape                0.018191\n",
            "cap-surface             66.566141\n",
            "cap-color                1.280902\n",
            "does-bruise-or-bleed     0.003754\n",
            "gill-attachment         39.312789\n",
            "gill-spacing            44.208640\n",
            "gill-color              41.768045\n",
            "stem-root               88.458603\n",
            "stem-surface            74.039837\n",
            "stem-color              10.521809\n",
            "veil-type               94.886820\n",
            "veil-color              88.685652\n",
            "has-ring                 0.004588\n",
            "ring-type               10.853929\n",
            "spore-print-color       92.031749\n",
            "habitat                  0.610277\n",
            "dtype: float64\n"
          ]
        }
      ],
      "source": [
        "# Calculate the percentage of missing values for each feature\n",
        "missing_percentage = df_train.isnull().mean() * 100\n",
        "\n",
        "# Filter out columns with missing values\n",
        "missing_percentage = missing_percentage[missing_percentage > 0]\n",
        "\n",
        "# Display the missing values percentage\n",
        "print(\"Columns with missing values and their percentage:\")\n",
        "print(missing_percentage)"
      ]
    },
    {
      "cell_type": "markdown",
      "id": "bb30d77a",
      "metadata": {
        "papermill": {
          "duration": 0.025629,
          "end_time": "2024-08-27T19:19:28.433735",
          "exception": false,
          "start_time": "2024-08-27T19:19:28.408106",
          "status": "completed"
        },
        "tags": [],
        "id": "bb30d77a"
      },
      "source": [
        "**Proportion of Missing Values:**\n",
        "\n",
        "* **High Proportion**: If a large percentage of the values in a row (e.g., over 50%) are missing, it might be reasonable to remove that row. A row with significant missing data can introduce bias or skew analysis results.\n",
        "* **Low Proportion**: If only a few values are missing, it might be better to impute or handle those missing values rather than removing the entire row."
      ]
    },
    {
      "cell_type": "markdown",
      "id": "1138f5b6",
      "metadata": {
        "papermill": {
          "duration": 0.02574,
          "end_time": "2024-08-27T19:19:28.537622",
          "exception": false,
          "start_time": "2024-08-27T19:19:28.511882",
          "status": "completed"
        },
        "tags": [],
        "id": "1138f5b6"
      },
      "source": [
        "#### **i. Numerical features** :"
      ]
    },
    {
      "cell_type": "code",
      "execution_count": null,
      "id": "46eb5392",
      "metadata": {
        "execution": {
          "iopub.execute_input": "2024-08-27T19:19:28.591889Z",
          "iopub.status.busy": "2024-08-27T19:19:28.591432Z",
          "iopub.status.idle": "2024-08-27T19:19:29.059509Z",
          "shell.execute_reply": "2024-08-27T19:19:29.058137Z"
        },
        "papermill": {
          "duration": 0.498685,
          "end_time": "2024-08-27T19:19:29.062418",
          "exception": false,
          "start_time": "2024-08-27T19:19:28.563733",
          "status": "completed"
        },
        "tags": [],
        "id": "46eb5392"
      },
      "outputs": [],
      "source": [
        "for column in numerical_columns:\n",
        "    df_train[column] = df_train[column].fillna(df_train[column].median())\n",
        "    df_test[column] = df_test[column].fillna(df_test[column].median())"
      ]
    },
    {
      "cell_type": "markdown",
      "id": "364ec77a",
      "metadata": {
        "papermill": {
          "duration": 0.027053,
          "end_time": "2024-08-27T19:19:29.115793",
          "exception": false,
          "start_time": "2024-08-27T19:19:29.088740",
          "status": "completed"
        },
        "tags": [],
        "id": "364ec77a"
      },
      "source": [
        "#### **i. Categorical features** :"
      ]
    },
    {
      "cell_type": "code",
      "execution_count": null,
      "id": "14d85ec0",
      "metadata": {
        "execution": {
          "iopub.execute_input": "2024-08-27T19:19:29.170629Z",
          "iopub.status.busy": "2024-08-27T19:19:29.170189Z",
          "iopub.status.idle": "2024-08-27T19:19:29.176621Z",
          "shell.execute_reply": "2024-08-27T19:19:29.175267Z"
        },
        "papermill": {
          "duration": 0.03752,
          "end_time": "2024-08-27T19:19:29.179272",
          "exception": false,
          "start_time": "2024-08-27T19:19:29.141752",
          "status": "completed"
        },
        "tags": [],
        "id": "14d85ec0"
      },
      "outputs": [],
      "source": [
        "categorical_columns_encoded = [value+\"_encoded\" for value in categorical_columns]"
      ]
    },
    {
      "cell_type": "code",
      "execution_count": null,
      "id": "62c3f281",
      "metadata": {
        "execution": {
          "iopub.execute_input": "2024-08-27T19:19:29.234063Z",
          "iopub.status.busy": "2024-08-27T19:19:29.233581Z",
          "iopub.status.idle": "2024-08-27T19:19:47.133216Z",
          "shell.execute_reply": "2024-08-27T19:19:47.131747Z"
        },
        "papermill": {
          "duration": 17.931743,
          "end_time": "2024-08-27T19:19:47.136619",
          "exception": false,
          "start_time": "2024-08-27T19:19:29.204876",
          "status": "completed"
        },
        "tags": [],
        "id": "62c3f281"
      },
      "outputs": [],
      "source": [
        "# Loop through each categorical column and impute missing values with the mode\n",
        "for column in categorical_columns:\n",
        "    mode_value = df_train[column].mode()[0]  # Get the mode of the column\n",
        "    df_train[column] = df_train[column].fillna(mode_value)  # Replace missing values with mode\n",
        "    mode_value_test = df_test[column].mode()[0]  # Get the mode of the column\n",
        "    df_test[column] = df_test[column].fillna(mode_value_test)  # Replace missing values with mode"
      ]
    },
    {
      "cell_type": "markdown",
      "id": "0976e234",
      "metadata": {
        "papermill": {
          "duration": 0.025756,
          "end_time": "2024-08-27T19:19:47.188377",
          "exception": false,
          "start_time": "2024-08-27T19:19:47.162621",
          "status": "completed"
        },
        "tags": [],
        "id": "0976e234"
      },
      "source": [
        "### **C. Encoding Categorical Variables** :"
      ]
    },
    {
      "cell_type": "markdown",
      "source": [],
      "metadata": {
        "id": "TfM2lyU7wCc6"
      },
      "id": "TfM2lyU7wCc6"
    },
    {
      "cell_type": "code",
      "execution_count": null,
      "id": "5d06f71f",
      "metadata": {
        "execution": {
          "iopub.execute_input": "2024-08-27T19:19:47.296399Z",
          "iopub.status.busy": "2024-08-27T19:19:47.295914Z",
          "iopub.status.idle": "2024-08-27T19:19:48.713432Z",
          "shell.execute_reply": "2024-08-27T19:19:48.711877Z"
        },
        "papermill": {
          "duration": 1.448155,
          "end_time": "2024-08-27T19:19:48.716377",
          "exception": false,
          "start_time": "2024-08-27T19:19:47.268222",
          "status": "completed"
        },
        "tags": [],
        "id": "5d06f71f"
      },
      "outputs": [],
      "source": [
        "from sklearn.preprocessing import LabelEncoder"
      ]
    },
    {
      "cell_type": "code",
      "execution_count": null,
      "id": "b6ad409b",
      "metadata": {
        "execution": {
          "iopub.execute_input": "2024-08-27T19:19:48.769514Z",
          "iopub.status.busy": "2024-08-27T19:19:48.768841Z",
          "iopub.status.idle": "2024-08-27T19:20:12.404574Z",
          "shell.execute_reply": "2024-08-27T19:20:12.403260Z"
        },
        "papermill": {
          "duration": 23.665852,
          "end_time": "2024-08-27T19:20:12.407466",
          "exception": false,
          "start_time": "2024-08-27T19:19:48.741614",
          "status": "completed"
        },
        "tags": [],
        "id": "b6ad409b"
      },
      "outputs": [],
      "source": [
        "# Initialize LabelEncoder\n",
        "label_encoder = LabelEncoder()\n",
        "\n",
        "# Process each categorical column\n",
        "for column in categorical_columns:\n",
        "    # Convert the column to string to handle mixed types\n",
        "    df_train[column] = df_train[column].astype(str)\n",
        "\n",
        "    # Apply Label Encoding\n",
        "    df_train[column + '_encoded'] = label_encoder.fit_transform(df_train[column])\n",
        "\n",
        "    # Convert the column to string to handle mixed types\n",
        "    df_test[column] = df_test[column].astype(str)\n",
        "\n",
        "    # Apply Label Encoding\n",
        "    df_test[column + '_encoded'] = label_encoder.fit_transform(df_test[column])"
      ]
    },
    {
      "cell_type": "code",
      "execution_count": null,
      "id": "eee66a69",
      "metadata": {
        "execution": {
          "iopub.execute_input": "2024-08-27T19:20:12.459821Z",
          "iopub.status.busy": "2024-08-27T19:20:12.459332Z",
          "iopub.status.idle": "2024-08-27T19:20:13.289565Z",
          "shell.execute_reply": "2024-08-27T19:20:13.288319Z"
        },
        "papermill": {
          "duration": 0.860067,
          "end_time": "2024-08-27T19:20:13.292655",
          "exception": false,
          "start_time": "2024-08-27T19:20:12.432588",
          "status": "completed"
        },
        "tags": [],
        "id": "eee66a69"
      },
      "outputs": [],
      "source": [
        "# Fit and transform the target column\n",
        "df_train['class'] = label_encoder.fit_transform(df_train['class'])"
      ]
    },
    {
      "cell_type": "markdown",
      "id": "c1654f8a",
      "metadata": {
        "papermill": {
          "duration": 0.02533,
          "end_time": "2024-08-27T19:20:13.343358",
          "exception": false,
          "start_time": "2024-08-27T19:20:13.318028",
          "status": "completed"
        },
        "tags": [],
        "id": "c1654f8a"
      },
      "source": [
        "### **D. Scaling Numerical Variables** :"
      ]
    },
    {
      "cell_type": "code",
      "execution_count": null,
      "id": "5c494439",
      "metadata": {
        "execution": {
          "iopub.execute_input": "2024-08-27T19:20:13.395887Z",
          "iopub.status.busy": "2024-08-27T19:20:13.395394Z",
          "iopub.status.idle": "2024-08-27T19:20:13.400882Z",
          "shell.execute_reply": "2024-08-27T19:20:13.399651Z"
        },
        "papermill": {
          "duration": 0.034822,
          "end_time": "2024-08-27T19:20:13.403712",
          "exception": false,
          "start_time": "2024-08-27T19:20:13.368890",
          "status": "completed"
        },
        "tags": [],
        "id": "5c494439"
      },
      "outputs": [],
      "source": [
        "from sklearn.preprocessing import RobustScaler"
      ]
    },
    {
      "cell_type": "code",
      "execution_count": null,
      "id": "9631ae0a",
      "metadata": {
        "execution": {
          "iopub.execute_input": "2024-08-27T19:20:13.456886Z",
          "iopub.status.busy": "2024-08-27T19:20:13.456400Z",
          "iopub.status.idle": "2024-08-27T19:20:14.414515Z",
          "shell.execute_reply": "2024-08-27T19:20:14.413216Z"
        },
        "papermill": {
          "duration": 0.987793,
          "end_time": "2024-08-27T19:20:14.417496",
          "exception": false,
          "start_time": "2024-08-27T19:20:13.429703",
          "status": "completed"
        },
        "tags": [],
        "id": "9631ae0a"
      },
      "outputs": [],
      "source": [
        "# Initialize RobustScaler\n",
        "scaler = RobustScaler()\n",
        "\n",
        "# Apply Robust Scaling to each numerical column\n",
        "df_train[numerical_columns] = scaler.fit_transform(df_train[numerical_columns])\n",
        "df_test[numerical_columns] = scaler.fit_transform(df_test[numerical_columns])"
      ]
    },
    {
      "cell_type": "markdown",
      "id": "44296dd7",
      "metadata": {
        "papermill": {
          "duration": 0.026285,
          "end_time": "2024-08-27T19:20:14.469229",
          "exception": false,
          "start_time": "2024-08-27T19:20:14.442944",
          "status": "completed"
        },
        "tags": [],
        "id": "44296dd7"
      },
      "source": [
        "### **E. Imbalanced Data Problem** :"
      ]
    },
    {
      "cell_type": "code",
      "execution_count": null,
      "id": "aa5e5aac",
      "metadata": {
        "execution": {
          "iopub.execute_input": "2024-08-27T19:20:14.526224Z",
          "iopub.status.busy": "2024-08-27T19:20:14.525708Z",
          "iopub.status.idle": "2024-08-27T19:20:15.742206Z",
          "shell.execute_reply": "2024-08-27T19:20:15.740996Z"
        },
        "papermill": {
          "duration": 1.246267,
          "end_time": "2024-08-27T19:20:15.744822",
          "exception": false,
          "start_time": "2024-08-27T19:20:14.498555",
          "status": "completed"
        },
        "tags": [],
        "id": "aa5e5aac",
        "outputId": "754fe86e-8b18-4c5c-93f6-50dcca5b2147"
      },
      "outputs": [
        {
          "data": {
            "image/png": "[encoded data removed]",
            "text/plain": [
              "<Figure size 1000x600 with 1 Axes>"
            ]
          },
          "metadata": {},
          "output_type": "display_data"
        }
      ],
      "source": [
        "import seaborn as sns\n",
        "import matplotlib.pyplot as plt\n",
        "# Create a count plot for the 'Type' column\n",
        "plt.figure(figsize=(10, 6))\n",
        "sns.countplot(x='class', data=df_train)\n",
        "\n",
        "# Set title and labels\n",
        "plt.title('Count Plot of Type')\n",
        "plt.xlabel('Type')\n",
        "plt.ylabel('Count');"
      ]
    },
    {
      "cell_type": "markdown",
      "id": "a715a9ee",
      "metadata": {
        "papermill": {
          "duration": 0.026155,
          "end_time": "2024-08-27T19:20:15.797255",
          "exception": false,
          "start_time": "2024-08-27T19:20:15.771100",
          "status": "completed"
        },
        "tags": [],
        "id": "a715a9ee"
      },
      "source": [
        "#### **E-1. Holdout Cross-Validation** :"
      ]
    },
    {
      "cell_type": "code",
      "execution_count": null,
      "id": "fcafddee",
      "metadata": {
        "execution": {
          "iopub.execute_input": "2024-08-27T19:20:15.901529Z",
          "iopub.status.busy": "2024-08-27T19:20:15.900905Z",
          "iopub.status.idle": "2024-08-27T19:20:16.015448Z",
          "shell.execute_reply": "2024-08-27T19:20:16.013986Z"
        },
        "papermill": {
          "duration": 0.144163,
          "end_time": "2024-08-27T19:20:16.018381",
          "exception": false,
          "start_time": "2024-08-27T19:20:15.874218",
          "status": "completed"
        },
        "tags": [],
        "id": "fcafddee"
      },
      "outputs": [],
      "source": [
        "from sklearn.model_selection import train_test_split"
      ]
    },
    {
      "cell_type": "code",
      "execution_count": null,
      "id": "09d784f0",
      "metadata": {
        "execution": {
          "iopub.execute_input": "2024-08-27T19:20:16.072731Z",
          "iopub.status.busy": "2024-08-27T19:20:16.072248Z",
          "iopub.status.idle": "2024-08-27T19:20:16.363936Z",
          "shell.execute_reply": "2024-08-27T19:20:16.362709Z"
        },
        "papermill": {
          "duration": 0.321764,
          "end_time": "2024-08-27T19:20:16.366787",
          "exception": false,
          "start_time": "2024-08-27T19:20:16.045023",
          "status": "completed"
        },
        "tags": [],
        "id": "09d784f0"
      },
      "outputs": [],
      "source": [
        "# Combine features\n",
        "columns = numerical_columns + categorical_columns_encoded\n",
        "X = df_train[columns]\n",
        "y = df_train['class']"
      ]
    },
    {
      "cell_type": "code",
      "execution_count": null,
      "id": "f8592362",
      "metadata": {
        "execution": {
          "iopub.execute_input": "2024-08-27T19:20:16.421777Z",
          "iopub.status.busy": "2024-08-27T19:20:16.421304Z",
          "iopub.status.idle": "2024-08-27T19:20:17.995922Z",
          "shell.execute_reply": "2024-08-27T19:20:17.994395Z"
        },
        "papermill": {
          "duration": 1.605976,
          "end_time": "2024-08-27T19:20:17.999245",
          "exception": false,
          "start_time": "2024-08-27T19:20:16.393269",
          "status": "completed"
        },
        "tags": [],
        "id": "f8592362"
      },
      "outputs": [],
      "source": [
        "# Split the dataset into training and testing sets\n",
        "X_train, X_test, y_train, y_test = train_test_split(X, y, test_size=0.2, random_state=42)"
      ]
    },
    {
      "cell_type": "markdown",
      "id": "20cc0cdb",
      "metadata": {
        "papermill": {
          "duration": 0.02556,
          "end_time": "2024-08-27T19:20:18.052324",
          "exception": false,
          "start_time": "2024-08-27T19:20:18.026764",
          "status": "completed"
        },
        "tags": [],
        "id": "20cc0cdb"
      },
      "source": [
        "<center>\n"
      ]
    },
    {
      "cell_type": "markdown",
      "id": "91d21ac4",
      "metadata": {
        "papermill": {
          "duration": 0.02543,
          "end_time": "2024-08-27T19:20:18.103784",
          "exception": false,
          "start_time": "2024-08-27T19:20:18.078354",
          "status": "completed"
        },
        "tags": [],
        "id": "91d21ac4"
      },
      "source": [
        "#### **E-2. Synthetic Minority Over-samoling TEchnique(SMOTE)** :"
      ]
    },
    {
      "cell_type": "code",
      "execution_count": null,
      "id": "6e07385d",
      "metadata": {
        "execution": {
          "iopub.execute_input": "2024-08-27T19:20:18.208379Z",
          "iopub.status.busy": "2024-08-27T19:20:18.207923Z",
          "iopub.status.idle": "2024-08-27T19:20:35.941461Z",
          "shell.execute_reply": "2024-08-27T19:20:35.939892Z"
        },
        "papermill": {
          "duration": 17.763905,
          "end_time": "2024-08-27T19:20:35.944419",
          "exception": false,
          "start_time": "2024-08-27T19:20:18.180514",
          "status": "completed"
        },
        "tags": [],
        "id": "6e07385d",
        "outputId": "1262a512-8ba3-44c5-ce17-e06f661fb2e5"
      },
      "outputs": [
        {
          "name": "stdout",
          "output_type": "stream",
          "text": [
            "Requirement already satisfied: imbalanced-learn in /opt/conda/lib/python3.10/site-packages (0.12.3)\r\n",
            "Requirement already satisfied: numpy>=1.17.3 in /opt/conda/lib/python3.10/site-packages (from imbalanced-learn) (1.26.4)\r\n",
            "Requirement already satisfied: scipy>=1.5.0 in /opt/conda/lib/python3.10/site-packages (from imbalanced-learn) (1.14.0)\r\n",
            "Requirement already satisfied: scikit-learn>=1.0.2 in /opt/conda/lib/python3.10/site-packages (from imbalanced-learn) (1.2.2)\r\n",
            "Requirement already satisfied: joblib>=1.1.1 in /opt/conda/lib/python3.10/site-packages (from imbalanced-learn) (1.4.2)\r\n",
            "Requirement already satisfied: threadpoolctl>=2.0.0 in /opt/conda/lib/python3.10/site-packages (from imbalanced-learn) (3.5.0)\r\n"
          ]
        }
      ],
      "source": [
        "!pip install imbalanced-learn"
      ]
    },
    {
      "cell_type": "code",
      "execution_count": null,
      "id": "c0cf7dae",
      "metadata": {
        "execution": {
          "iopub.execute_input": "2024-08-27T19:20:35.998299Z",
          "iopub.status.busy": "2024-08-27T19:20:35.997808Z",
          "iopub.status.idle": "2024-08-27T19:20:36.464505Z",
          "shell.execute_reply": "2024-08-27T19:20:36.463217Z"
        },
        "papermill": {
          "duration": 0.496964,
          "end_time": "2024-08-27T19:20:36.467684",
          "exception": false,
          "start_time": "2024-08-27T19:20:35.970720",
          "status": "completed"
        },
        "tags": [],
        "id": "c0cf7dae"
      },
      "outputs": [],
      "source": [
        "from imblearn.over_sampling import SMOTE"
      ]
    },
    {
      "cell_type": "code",
      "execution_count": null,
      "id": "5b2da725",
      "metadata": {
        "execution": {
          "iopub.execute_input": "2024-08-27T19:20:36.523167Z",
          "iopub.status.busy": "2024-08-27T19:20:36.522185Z",
          "iopub.status.idle": "2024-08-27T20:12:24.996461Z",
          "shell.execute_reply": "2024-08-27T20:12:24.994532Z"
        },
        "papermill": {
          "duration": 3108.505152,
          "end_time": "2024-08-27T20:12:24.999953",
          "exception": false,
          "start_time": "2024-08-27T19:20:36.494801",
          "status": "completed"
        },
        "tags": [],
        "id": "5b2da725"
      },
      "outputs": [],
      "source": [
        "# Initialize SMOTE\n",
        "smote = SMOTE(random_state=42)\n",
        "\n",
        "# Apply SMOTE to the training data\n",
        "X_train_smote, y_train_smote = smote.fit_resample(X_train, y_train)"
      ]
    },
    {
      "cell_type": "markdown",
      "id": "a9801c02",
      "metadata": {
        "papermill": {
          "duration": 0.025494,
          "end_time": "2024-08-27T20:12:25.052287",
          "exception": false,
          "start_time": "2024-08-27T20:12:25.026793",
          "status": "completed"
        },
        "tags": [],
        "id": "a9801c02"
      },
      "source": [
        "## **4. Model Selection And Training** :"
      ]
    },
    {
      "cell_type": "code",
      "execution_count": null,
      "id": "f1e501b7",
      "metadata": {
        "execution": {
          "iopub.execute_input": "2024-08-27T20:12:25.105603Z",
          "iopub.status.busy": "2024-08-27T20:12:25.105118Z",
          "iopub.status.idle": "2024-08-27T20:12:25.111411Z",
          "shell.execute_reply": "2024-08-27T20:12:25.110288Z"
        },
        "papermill": {
          "duration": 0.035892,
          "end_time": "2024-08-27T20:12:25.113815",
          "exception": false,
          "start_time": "2024-08-27T20:12:25.077923",
          "status": "completed"
        },
        "tags": [],
        "id": "f1e501b7"
      },
      "outputs": [],
      "source": [
        "from sklearn.ensemble import RandomForestClassifier"
      ]
    },
    {
      "cell_type": "code",
      "execution_count": null,
      "id": "0896b4b0",
      "metadata": {
        "execution": {
          "iopub.execute_input": "2024-08-27T20:12:25.167830Z",
          "iopub.status.busy": "2024-08-27T20:12:25.167369Z",
          "iopub.status.idle": "2024-08-27T20:12:25.173176Z",
          "shell.execute_reply": "2024-08-27T20:12:25.171886Z"
        },
        "papermill": {
          "duration": 0.035952,
          "end_time": "2024-08-27T20:12:25.175852",
          "exception": false,
          "start_time": "2024-08-27T20:12:25.139900",
          "status": "completed"
        },
        "tags": [],
        "id": "0896b4b0"
      },
      "outputs": [],
      "source": [
        "# Initialize the Logistic Regression model with appropriate solver\n",
        "model = RandomForestClassifier(random_state=42)"
      ]
    },
    {
      "cell_type": "code",
      "execution_count": null,
      "id": "21bb70f4",
      "metadata": {
        "execution": {
          "iopub.execute_input": "2024-08-27T20:12:25.230351Z",
          "iopub.status.busy": "2024-08-27T20:12:25.229860Z",
          "iopub.status.idle": "2024-08-27T20:32:49.487617Z",
          "shell.execute_reply": "2024-08-27T20:32:49.485981Z"
        },
        "papermill": {
          "duration": 1224.312988,
          "end_time": "2024-08-27T20:32:49.515633",
          "exception": false,
          "start_time": "2024-08-27T20:12:25.202645",
          "status": "completed"
        },
        "tags": [],
        "id": "21bb70f4",
        "outputId": "3db1fa9b-479a-4f75-9004-ceda82242996"
      },
      "outputs": [
        {
          "data": {
            "text/html": [
              "<style>#sk-container-id-1 {color: black;background-color: white;}#sk-container-id-1 pre{padding: 0;}#sk-container-id-1 div.sk-toggleable {background-color: white;}#sk-container-id-1 label.sk-toggleable__label {cursor: pointer;display: block;width: 100%;margin-bottom: 0;padding: 0.3em;box-sizing: border-box;text-align: center;}#sk-container-id-1 label.sk-toggleable__label-arrow:before {content: \"▸\";float: left;margin-right: 0.25em;color: #696969;}#sk-container-id-1 label.sk-toggleable__label-arrow:hover:before {color: black;}#sk-container-id-1 div.sk-estimator:hover label.sk-toggleable__label-arrow:before {color: black;}#sk-container-id-1 div.sk-toggleable__content {max-height: 0;max-width: 0;overflow: hidden;text-align: left;background-color: #f0f8ff;}#sk-container-id-1 div.sk-toggleable__content pre {margin: 0.2em;color: black;border-radius: 0.25em;background-color: #f0f8ff;}#sk-container-id-1 input.sk-toggleable__control:checked~div.sk-toggleable__content {max-height: 200px;max-width: 100%;overflow: auto;}#sk-container-id-1 input.sk-toggleable__control:checked~label.sk-toggleable__label-arrow:before {content: \"▾\";}#sk-container-id-1 div.sk-estimator input.sk-toggleable__control:checked~label.sk-toggleable__label {background-color: #d4ebff;}#sk-container-id-1 div.sk-label input.sk-toggleable__control:checked~label.sk-toggleable__label {background-color: #d4ebff;}#sk-container-id-1 input.sk-hidden--visually {border: 0;clip: rect(1px 1px 1px 1px);clip: rect(1px, 1px, 1px, 1px);height: 1px;margin: -1px;overflow: hidden;padding: 0;position: absolute;width: 1px;}#sk-container-id-1 div.sk-estimator {font-family: monospace;background-color: #f0f8ff;border: 1px dotted black;border-radius: 0.25em;box-sizing: border-box;margin-bottom: 0.5em;}#sk-container-id-1 div.sk-estimator:hover {background-color: #d4ebff;}#sk-container-id-1 div.sk-parallel-item::after {content: \"\";width: 100%;border-bottom: 1px solid gray;flex-grow: 1;}#sk-container-id-1 div.sk-label:hover label.sk-toggleable__label {background-color: #d4ebff;}#sk-container-id-1 div.sk-serial::before {content: \"\";position: absolute;border-left: 1px solid gray;box-sizing: border-box;top: 0;bottom: 0;left: 50%;z-index: 0;}#sk-container-id-1 div.sk-serial {display: flex;flex-direction: column;align-items: center;background-color: white;padding-right: 0.2em;padding-left: 0.2em;position: relative;}#sk-container-id-1 div.sk-item {position: relative;z-index: 1;}#sk-container-id-1 div.sk-parallel {display: flex;align-items: stretch;justify-content: center;background-color: white;position: relative;}#sk-container-id-1 div.sk-item::before, #sk-container-id-1 div.sk-parallel-item::before {content: \"\";position: absolute;border-left: 1px solid gray;box-sizing: border-box;top: 0;bottom: 0;left: 50%;z-index: -1;}#sk-container-id-1 div.sk-parallel-item {display: flex;flex-direction: column;z-index: 1;position: relative;background-color: white;}#sk-container-id-1 div.sk-parallel-item:first-child::after {align-self: flex-end;width: 50%;}#sk-container-id-1 div.sk-parallel-item:last-child::after {align-self: flex-start;width: 50%;}#sk-container-id-1 div.sk-parallel-item:only-child::after {width: 0;}#sk-container-id-1 div.sk-dashed-wrapped {border: 1px dashed gray;margin: 0 0.4em 0.5em 0.4em;box-sizing: border-box;padding-bottom: 0.4em;background-color: white;}#sk-container-id-1 div.sk-label label {font-family: monospace;font-weight: bold;display: inline-block;line-height: 1.2em;}#sk-container-id-1 div.sk-label-container {text-align: center;}#sk-container-id-1 div.sk-container {/* jupyter's `normalize.less` sets `[hidden] { display: none; }` but bootstrap.min.css set `[hidden] { display: none !important; }` so we also need the `!important` here to be able to override the default hidden behavior on the sphinx rendered scikit-learn.org. See: https://github.com/scikit-learn/scikit-learn/issues/21755 */display: inline-block !important;position: relative;}#sk-container-id-1 div.sk-text-repr-fallback {display: none;}</style><div id=\"sk-container-id-1\" class=\"sk-top-container\"><div class=\"sk-text-repr-fallback\"><pre>RandomForestClassifier(random_state=42)</pre><b>In a Jupyter environment, please rerun this cell to show the HTML representation or trust the notebook. <br />On GitHub, the HTML representation is unable to render, please try loading this page with nbviewer.org.</b></div><div class=\"sk-container\" hidden><div class=\"sk-item\"><div class=\"sk-estimator sk-toggleable\"><input class=\"sk-toggleable__control sk-hidden--visually\" id=\"sk-estimator-id-1\" type=\"checkbox\" checked><label for=\"sk-estimator-id-1\" class=\"sk-toggleable__label sk-toggleable__label-arrow\">RandomForestClassifier</label><div class=\"sk-toggleable__content\"><pre>RandomForestClassifier(random_state=42)</pre></div></div></div></div></div>"
            ],
            "text/plain": [
              "RandomForestClassifier(random_state=42)"
            ]
          },
          "execution_count": 31,
          "metadata": {},
          "output_type": "execute_result"
        }
      ],
      "source": [
        "# Train the model\n",
        "model.fit(X_train_smote, y_train_smote)"
      ]
    },
    {
      "cell_type": "markdown",
      "id": "c29a2f82",
      "metadata": {
        "papermill": {
          "duration": 0.025335,
          "end_time": "2024-08-27T20:32:49.567010",
          "exception": false,
          "start_time": "2024-08-27T20:32:49.541675",
          "status": "completed"
        },
        "tags": [],
        "id": "c29a2f82"
      },
      "source": [
        "## **5. Model Evaluation** :"
      ]
    },
    {
      "cell_type": "code",
      "execution_count": null,
      "id": "8f3fa557",
      "metadata": {
        "execution": {
          "iopub.execute_input": "2024-08-27T20:32:49.620351Z",
          "iopub.status.busy": "2024-08-27T20:32:49.619877Z",
          "iopub.status.idle": "2024-08-27T20:32:49.625486Z",
          "shell.execute_reply": "2024-08-27T20:32:49.624293Z"
        },
        "papermill": {
          "duration": 0.034989,
          "end_time": "2024-08-27T20:32:49.627809",
          "exception": false,
          "start_time": "2024-08-27T20:32:49.592820",
          "status": "completed"
        },
        "tags": [],
        "id": "8f3fa557"
      },
      "outputs": [],
      "source": [
        "from sklearn.metrics import accuracy_score, classification_report"
      ]
    },
    {
      "cell_type": "code",
      "execution_count": null,
      "id": "a397eb4d",
      "metadata": {
        "execution": {
          "iopub.execute_input": "2024-08-27T20:32:49.681630Z",
          "iopub.status.busy": "2024-08-27T20:32:49.681193Z",
          "iopub.status.idle": "2024-08-27T20:33:19.307166Z",
          "shell.execute_reply": "2024-08-27T20:33:19.306022Z"
        },
        "papermill": {
          "duration": 29.656501,
          "end_time": "2024-08-27T20:33:19.310204",
          "exception": false,
          "start_time": "2024-08-27T20:32:49.653703",
          "status": "completed"
        },
        "tags": [],
        "id": "a397eb4d"
      },
      "outputs": [],
      "source": [
        "# Predict on the test set\n",
        "y_pred = model.predict(X_test)\n",
        "\n",
        "# Evaluate the model\n",
        "accuracy = accuracy_score(y_test, y_pred)\n",
        "report = classification_report(y_test, y_pred)"
      ]
    },
    {
      "cell_type": "code",
      "execution_count": null,
      "id": "a7f6dc17",
      "metadata": {
        "execution": {
          "iopub.execute_input": "2024-08-27T20:33:19.366266Z",
          "iopub.status.busy": "2024-08-27T20:33:19.365768Z",
          "iopub.status.idle": "2024-08-27T20:33:19.372441Z",
          "shell.execute_reply": "2024-08-27T20:33:19.371076Z"
        },
        "papermill": {
          "duration": 0.038008,
          "end_time": "2024-08-27T20:33:19.375073",
          "exception": false,
          "start_time": "2024-08-27T20:33:19.337065",
          "status": "completed"
        },
        "tags": [],
        "id": "a7f6dc17",
        "outputId": "3947ed3e-07ac-4b0c-e1bb-dd023a3c4a7d"
      },
      "outputs": [
        {
          "name": "stdout",
          "output_type": "stream",
          "text": [
            "accuracy  : 0.9883603977612695\n"
          ]
        }
      ],
      "source": [
        "print(\"accuracy  :\",accuracy)"
      ]
    },
    {
      "cell_type": "code",
      "execution_count": null,
      "id": "323da3ff",
      "metadata": {
        "execution": {
          "iopub.execute_input": "2024-08-27T20:33:19.432780Z",
          "iopub.status.busy": "2024-08-27T20:33:19.432334Z",
          "iopub.status.idle": "2024-08-27T20:33:19.438837Z",
          "shell.execute_reply": "2024-08-27T20:33:19.437554Z"
        },
        "papermill": {
          "duration": 0.039087,
          "end_time": "2024-08-27T20:33:19.441426",
          "exception": false,
          "start_time": "2024-08-27T20:33:19.402339",
          "status": "completed"
        },
        "tags": [],
        "id": "323da3ff",
        "outputId": "8a7baa69-ea5e-4743-b06a-4989803811f8"
      },
      "outputs": [
        {
          "name": "stdout",
          "output_type": "stream",
          "text": [
            "repor : \n",
            "               precision    recall  f1-score   support\n",
            "\n",
            "           0       0.99      0.99      0.99    282397\n",
            "           1       0.99      0.99      0.99    340992\n",
            "\n",
            "    accuracy                           0.99    623389\n",
            "   macro avg       0.99      0.99      0.99    623389\n",
            "weighted avg       0.99      0.99      0.99    623389\n",
            "\n"
          ]
        }
      ],
      "source": [
        "print(\"repor : \\n\",report)"
      ]
    },
    {
      "cell_type": "code",
      "execution_count": null,
      "id": "70243cc7",
      "metadata": {
        "execution": {
          "iopub.execute_input": "2024-08-27T20:33:19.495632Z",
          "iopub.status.busy": "2024-08-27T20:33:19.495214Z",
          "iopub.status.idle": "2024-08-27T20:33:19.500637Z",
          "shell.execute_reply": "2024-08-27T20:33:19.499317Z"
        },
        "papermill": {
          "duration": 0.035321,
          "end_time": "2024-08-27T20:33:19.503262",
          "exception": false,
          "start_time": "2024-08-27T20:33:19.467941",
          "status": "completed"
        },
        "tags": [],
        "id": "70243cc7"
      },
      "outputs": [],
      "source": [
        "from sklearn.metrics import matthews_corrcoef"
      ]
    },
    {
      "cell_type": "code",
      "execution_count": null,
      "id": "73e1b0d6",
      "metadata": {
        "execution": {
          "iopub.execute_input": "2024-08-27T20:33:19.557327Z",
          "iopub.status.busy": "2024-08-27T20:33:19.556853Z",
          "iopub.status.idle": "2024-08-27T20:33:19.840182Z",
          "shell.execute_reply": "2024-08-27T20:33:19.838821Z"
        },
        "papermill": {
          "duration": 0.313641,
          "end_time": "2024-08-27T20:33:19.842780",
          "exception": false,
          "start_time": "2024-08-27T20:33:19.529139",
          "status": "completed"
        },
        "tags": [],
        "id": "73e1b0d6",
        "outputId": "2a1c64e5-feb8-42d1-bf84-c119ab5e97db"
      },
      "outputs": [
        {
          "name": "stdout",
          "output_type": "stream",
          "text": [
            "Matthews Correlation Coefficient (MCC): 0.9765273357989297\n"
          ]
        }
      ],
      "source": [
        "mcc = matthews_corrcoef(y_test, y_pred)\n",
        "print(f'Matthews Correlation Coefficient (MCC): {mcc}')"
      ]
    },
    {
      "cell_type": "markdown",
      "id": "f24c33b5",
      "metadata": {
        "papermill": {
          "duration": 0.026168,
          "end_time": "2024-08-27T20:33:19.895558",
          "exception": false,
          "start_time": "2024-08-27T20:33:19.869390",
          "status": "completed"
        },
        "tags": [],
        "id": "f24c33b5"
      },
      "source": [
        "## **6. Model Deployment** :"
      ]
    },
    {
      "cell_type": "code",
      "execution_count": null,
      "id": "a9354f51",
      "metadata": {
        "execution": {
          "iopub.execute_input": "2024-08-27T20:33:19.949948Z",
          "iopub.status.busy": "2024-08-27T20:33:19.949194Z",
          "iopub.status.idle": "2024-08-27T20:34:53.785024Z",
          "shell.execute_reply": "2024-08-27T20:34:53.783687Z"
        },
        "papermill": {
          "duration": 93.866269,
          "end_time": "2024-08-27T20:34:53.788090",
          "exception": false,
          "start_time": "2024-08-27T20:33:19.921821",
          "status": "completed"
        },
        "tags": [],
        "id": "a9354f51"
      },
      "outputs": [],
      "source": [
        "test_pred_prob = model.predict(df_test[columns])"
      ]
    },
    {
      "cell_type": "code",
      "execution_count": null,
      "id": "8070a3fe",
      "metadata": {
        "execution": {
          "iopub.execute_input": "2024-08-27T20:34:53.844314Z",
          "iopub.status.busy": "2024-08-27T20:34:53.843861Z",
          "iopub.status.idle": "2024-08-27T20:34:53.852136Z",
          "shell.execute_reply": "2024-08-27T20:34:53.850909Z"
        },
        "papermill": {
          "duration": 0.037892,
          "end_time": "2024-08-27T20:34:53.854589",
          "exception": false,
          "start_time": "2024-08-27T20:34:53.816697",
          "status": "completed"
        },
        "tags": [],
        "id": "8070a3fe",
        "outputId": "98dd2f31-580b-4d7b-b005-2b07a74a55cf"
      },
      "outputs": [
        {
          "data": {
            "text/plain": [
              "array([0, 1, 1, ..., 1, 0, 0])"
            ]
          },
          "execution_count": 39,
          "metadata": {},
          "output_type": "execute_result"
        }
      ],
      "source": [
        "test_pred_prob"
      ]
    },
    {
      "cell_type": "code",
      "execution_count": null,
      "id": "eac34389",
      "metadata": {
        "execution": {
          "iopub.execute_input": "2024-08-27T20:34:53.908757Z",
          "iopub.status.busy": "2024-08-27T20:34:53.908301Z",
          "iopub.status.idle": "2024-08-27T20:34:53.993950Z",
          "shell.execute_reply": "2024-08-27T20:34:53.992742Z"
        },
        "papermill": {
          "duration": 0.11597,
          "end_time": "2024-08-27T20:34:53.996795",
          "exception": false,
          "start_time": "2024-08-27T20:34:53.880825",
          "status": "completed"
        },
        "tags": [],
        "id": "eac34389"
      },
      "outputs": [],
      "source": [
        "test_pred_class = label_encoder.inverse_transform(test_pred_prob)"
      ]
    },
    {
      "cell_type": "code",
      "execution_count": null,
      "id": "8325f767",
      "metadata": {
        "execution": {
          "iopub.execute_input": "2024-08-27T20:34:54.051820Z",
          "iopub.status.busy": "2024-08-27T20:34:54.051375Z",
          "iopub.status.idle": "2024-08-27T20:34:54.059444Z",
          "shell.execute_reply": "2024-08-27T20:34:54.058144Z"
        },
        "papermill": {
          "duration": 0.038528,
          "end_time": "2024-08-27T20:34:54.062109",
          "exception": false,
          "start_time": "2024-08-27T20:34:54.023581",
          "status": "completed"
        },
        "tags": [],
        "id": "8325f767",
        "outputId": "65eaa05f-950f-42f7-d7e8-56c3c08ac0ae"
      },
      "outputs": [
        {
          "data": {
            "text/plain": [
              "array(['e', 'p', 'p', ..., 'p', 'e', 'e'], dtype=object)"
            ]
          },
          "execution_count": 41,
          "metadata": {},
          "output_type": "execute_result"
        }
      ],
      "source": [
        "test_pred_class"
      ]
    },
    {
      "cell_type": "code",
      "execution_count": null,
      "id": "99db0911",
      "metadata": {
        "execution": {
          "iopub.execute_input": "2024-08-27T20:34:54.118225Z",
          "iopub.status.busy": "2024-08-27T20:34:54.117507Z",
          "iopub.status.idle": "2024-08-27T20:34:54.760525Z",
          "shell.execute_reply": "2024-08-27T20:34:54.759377Z"
        },
        "papermill": {
          "duration": 0.673477,
          "end_time": "2024-08-27T20:34:54.763215",
          "exception": false,
          "start_time": "2024-08-27T20:34:54.089738",
          "status": "completed"
        },
        "tags": [],
        "id": "99db0911"
      },
      "outputs": [],
      "source": [
        "df_sub=pd.read_csv(\"/kaggle/input/playground-series-s4e8/sample_submission.csv\")"
      ]
    },
    {
      "cell_type": "code",
      "execution_count": null,
      "id": "363dd75f",
      "metadata": {
        "execution": {
          "iopub.execute_input": "2024-08-27T20:34:54.819100Z",
          "iopub.status.busy": "2024-08-27T20:34:54.818612Z",
          "iopub.status.idle": "2024-08-27T20:34:54.843671Z",
          "shell.execute_reply": "2024-08-27T20:34:54.842360Z"
        },
        "papermill": {
          "duration": 0.05661,
          "end_time": "2024-08-27T20:34:54.846514",
          "exception": false,
          "start_time": "2024-08-27T20:34:54.789904",
          "status": "completed"
        },
        "tags": [],
        "id": "363dd75f"
      },
      "outputs": [],
      "source": [
        "df_sub['class']= test_pred_class"
      ]
    },
    {
      "cell_type": "code",
      "execution_count": null,
      "id": "522693ba",
      "metadata": {
        "execution": {
          "iopub.execute_input": "2024-08-27T20:34:54.901563Z",
          "iopub.status.busy": "2024-08-27T20:34:54.901113Z",
          "iopub.status.idle": "2024-08-27T20:34:57.683207Z",
          "shell.execute_reply": "2024-08-27T20:34:57.682095Z"
        },
        "papermill": {
          "duration": 2.813138,
          "end_time": "2024-08-27T20:34:57.686038",
          "exception": false,
          "start_time": "2024-08-27T20:34:54.872900",
          "status": "completed"
        },
        "tags": [],
        "id": "522693ba"
      },
      "outputs": [],
      "source": [
        "df_sub.to_csv('submission.csv', index = False)"
      ]
    },
    {
      "cell_type": "code",
      "execution_count": null,
      "id": "1d7385ad",
      "metadata": {
        "execution": {
          "iopub.execute_input": "2024-08-27T20:34:57.741098Z",
          "iopub.status.busy": "2024-08-27T20:34:57.740131Z",
          "iopub.status.idle": "2024-08-27T20:34:58.202455Z",
          "shell.execute_reply": "2024-08-27T20:34:58.201322Z"
        },
        "papermill": {
          "duration": 0.492297,
          "end_time": "2024-08-27T20:34:58.204922",
          "exception": false,
          "start_time": "2024-08-27T20:34:57.712625",
          "status": "completed"
        },
        "tags": [],
        "id": "1d7385ad",
        "outputId": "3c18b235-37c9-4e9e-fdaf-629a96933dbb"
      },
      "outputs": [
        {
          "data": {
            "text/html": [
              "<div>\n",
              "<style scoped>\n",
              "    .dataframe tbody tr th:only-of-type {\n",
              "        vertical-align: middle;\n",
              "    }\n",
              "\n",
              "    .dataframe tbody tr th {\n",
              "        vertical-align: top;\n",
              "    }\n",
              "\n",
              "    .dataframe thead th {\n",
              "        text-align: right;\n",
              "    }\n",
              "</style>\n",
              "<table border=\"1\" class=\"dataframe\">\n",
              "  <thead>\n",
              "    <tr style=\"text-align: right;\">\n",
              "      <th></th>\n",
              "      <th>id</th>\n",
              "      <th>class</th>\n",
              "    </tr>\n",
              "  </thead>\n",
              "  <tbody>\n",
              "    <tr>\n",
              "      <th>0</th>\n",
              "      <td>3116945</td>\n",
              "      <td>e</td>\n",
              "    </tr>\n",
              "    <tr>\n",
              "      <th>1</th>\n",
              "      <td>3116946</td>\n",
              "      <td>p</td>\n",
              "    </tr>\n",
              "    <tr>\n",
              "      <th>2</th>\n",
              "      <td>3116947</td>\n",
              "      <td>p</td>\n",
              "    </tr>\n",
              "    <tr>\n",
              "      <th>3</th>\n",
              "      <td>3116948</td>\n",
              "      <td>p</td>\n",
              "    </tr>\n",
              "    <tr>\n",
              "      <th>4</th>\n",
              "      <td>3116949</td>\n",
              "      <td>e</td>\n",
              "    </tr>\n",
              "    <tr>\n",
              "      <th>...</th>\n",
              "      <td>...</td>\n",
              "      <td>...</td>\n",
              "    </tr>\n",
              "    <tr>\n",
              "      <th>2077959</th>\n",
              "      <td>5194904</td>\n",
              "      <td>p</td>\n",
              "    </tr>\n",
              "    <tr>\n",
              "      <th>2077960</th>\n",
              "      <td>5194905</td>\n",
              "      <td>p</td>\n",
              "    </tr>\n",
              "    <tr>\n",
              "      <th>2077961</th>\n",
              "      <td>5194906</td>\n",
              "      <td>p</td>\n",
              "    </tr>\n",
              "    <tr>\n",
              "      <th>2077962</th>\n",
              "      <td>5194907</td>\n",
              "      <td>e</td>\n",
              "    </tr>\n",
              "    <tr>\n",
              "      <th>2077963</th>\n",
              "      <td>5194908</td>\n",
              "      <td>e</td>\n",
              "    </tr>\n",
              "  </tbody>\n",
              "</table>\n",
              "<p>2077964 rows × 2 columns</p>\n",
              "</div>"
            ],
            "text/plain": [
              "              id class\n",
              "0        3116945     e\n",
              "1        3116946     p\n",
              "2        3116947     p\n",
              "3        3116948     p\n",
              "4        3116949     e\n",
              "...          ...   ...\n",
              "2077959  5194904     p\n",
              "2077960  5194905     p\n",
              "2077961  5194906     p\n",
              "2077962  5194907     e\n",
              "2077963  5194908     e\n",
              "\n",
              "[2077964 rows x 2 columns]"
            ]
          },
          "execution_count": 45,
          "metadata": {},
          "output_type": "execute_result"
        }
      ],
      "source": [
        "pd.read_csv('submission.csv')"
      ]
    },
    {
      "cell_type": "code",
      "execution_count": null,
      "id": "c7557b31",
      "metadata": {
        "execution": {
          "iopub.execute_input": "2024-08-27T20:34:58.260858Z",
          "iopub.status.busy": "2024-08-27T20:34:58.260427Z",
          "iopub.status.idle": "2024-08-27T20:34:59.608509Z",
          "shell.execute_reply": "2024-08-27T20:34:59.607307Z"
        },
        "papermill": {
          "duration": 1.378786,
          "end_time": "2024-08-27T20:34:59.611035",
          "exception": false,
          "start_time": "2024-08-27T20:34:58.232249",
          "status": "completed"
        },
        "tags": [],
        "id": "c7557b31",
        "outputId": "ba18e517-706a-4d97-f921-1e7abe7fb672"
      },
      "outputs": [
        {
          "data": {
            "text/plain": [
              "<Axes: >"
            ]
          },
          "execution_count": 46,
          "metadata": {},
          "output_type": "execute_result"
        },
        {
          "data": {
            "image/png": "[encoded data removed]",
            "text/plain": [
              "<Figure size 640x480 with 1 Axes>"
            ]
          },
          "metadata": {},
          "output_type": "display_data"
        }
      ],
      "source": [
        "df_sub['class'].hist()"
      ]
    },
    {
      "cell_type": "markdown",
      "id": "62b5a3a4",
      "metadata": {
        "papermill": {
          "duration": 0.027899,
          "end_time": "2024-08-27T20:34:59.666740",
          "exception": false,
          "start_time": "2024-08-27T20:34:59.638841",
          "status": "completed"
        },
        "tags": [],
        "id": "62b5a3a4"
      },
      "source": [
        "## **Refrences** :"
      ]
    },
    {
      "cell_type": "markdown",
      "id": "da95a06b",
      "metadata": {
        "papermill": {
          "duration": 0.026769,
          "end_time": "2024-08-27T20:34:59.720791",
          "exception": false,
          "start_time": "2024-08-27T20:34:59.694022",
          "status": "completed"
        },
        "tags": [],
        "id": "da95a06b"
      },
      "source": [
        "<div style=\"\n",
        "    background-color: #f0f8ff;\n",
        "    border-radius: 10px;\n",
        "    padding: 20px;\n",
        "    margin: 20px 0;\n",
        "    font-family: 'Arial', sans-serif;\n",
        "    text-align: center;\n",
        "    box-shadow: 0px 0px 15px rgba(0, 0, 0, 0.1);\n",
        "\">\n",
        "    <h2 style=\"\n",
        "        color: #4caf50;\n",
        "        font-size: 24px;\n",
        "        margin-bottom: 10px;\n",
        "    \">👏😊 IF YOU FIND THIS HELPFUL, PLEASE UPVOTE! 💢👏</h2>\n",
        "    <p style=\"\n",
        "        font-size: 18px;\n",
        "        color: #555;\n",
        "        margin: 0;\n",
        "    \">\n",
        "        🥽🖥This took quite a bit of effort on my part, and while it might seem trivial,\n",
        "        🏆🏆receiving your appreciation means a lot to me! 😅🎃 Your upvotes inspire me to keep creating\n",
        "        helpful content like this🖥🍱.\n",
        "    </p>\n",
        "</div>"
      ]
    }
  ],
  "metadata": {
    "kaggle": {
      "accelerator": "none",
      "dataSources": [
        {
          "databundleVersionId": 9045607,
          "sourceId": 76727,
          "sourceType": "competition"
        }
      ],
      "dockerImageVersionId": 30761,
      "isGpuEnabled": false,
      "isInternetEnabled": true,
      "language": "python",
      "sourceType": "notebook"
    },
    "kernelspec": {
      "display_name": "Python 3",
      "language": "python",
      "name": "python3"
    },
    "language_info": {
      "codemirror_mode": {
        "name": "ipython",
        "version": 3
      },
      "file_extension": ".py",
      "mimetype": "text/x-python",
      "name": "python",
      "nbconvert_exporter": "python",
      "pygments_lexer": "ipython3",
      "version": "3.10.14"
    },
    "papermill": {
      "default_parameters": {},
      "duration": 4607.024073,
      "end_time": "2024-08-27T20:35:02.269380",
      "environment_variables": {},
      "exception": null,
      "input_path": "__notebook__.ipynb",
      "output_path": "__notebook__.ipynb",
      "parameters": {},
      "start_time": "2024-08-27T19:18:15.245307",
      "version": "2.6.0"
    },
    "colab": {
      "provenance": [],
      "include_colab_link": true
    }
  },
  "nbformat": 4,
  "nbformat_minor": 5
}